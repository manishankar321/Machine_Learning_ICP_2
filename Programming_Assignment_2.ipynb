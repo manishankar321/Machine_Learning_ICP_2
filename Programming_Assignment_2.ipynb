{
  "nbformat": 4,
  "nbformat_minor": 0,
  "metadata": {
    "colab": {
      "provenance": []
    },
    "kernelspec": {
      "name": "python3",
      "display_name": "Python 3"
    },
    "language_info": {
      "name": "python"
    }
  },
  "cells": [
    {
      "cell_type": "code",
      "execution_count": 5,
      "metadata": {
        "colab": {
          "base_uri": "https://localhost:8080/"
        },
        "id": "sr0obHZ4KJIj",
        "outputId": "0602994e-46b6-487c-c8bd-e937b0e19d0c"
      },
      "outputs": [
        {
          "output_type": "stream",
          "name": "stdout",
          "text": [
            "enter the number of rows5\n",
            "*\n",
            "**\n",
            "***\n",
            "****\n",
            "*****\n",
            "****\n",
            "***\n",
            "**\n",
            "*\n",
            "\n"
          ]
        }
      ],
      "source": [
        "row = int(input(\"enter the number of rows\"))\n",
        "for i in range (row):\n",
        "  print(\"*\"*(i+1))\n",
        "for j in range (row):\n",
        "  print(\"*\"*(row-j-1))"
      ]
    },
    {
      "cell_type": "code",
      "source": [
        "my_list = [10, 20, 30, 40, 50, 60, 70, 80, 90, 100]\n",
        "print(my_list)\n",
        "for i in range (len(my_list)):\n",
        "  if  (not i%2)==0:\n",
        "    print(my_list[i])"
      ],
      "metadata": {
        "colab": {
          "base_uri": "https://localhost:8080/"
        },
        "id": "loaTFrYYNTve",
        "outputId": "a2e3efdf-f7d2-443a-e625-ccd2fa5bb1c7"
      },
      "execution_count": 7,
      "outputs": [
        {
          "output_type": "stream",
          "name": "stdout",
          "text": [
            "[10, 20, 30, 40, 50, 60, 70, 80, 90, 100]\n",
            "20\n",
            "40\n",
            "60\n",
            "80\n",
            "100\n"
          ]
        }
      ]
    },
    {
      "cell_type": "markdown",
      "source": [
        "## here we print the odd indexes by using  if  (not i%2)==0: for even indexes remove not and i%2==0 it will give even indexes"
      ],
      "metadata": {
        "id": "Yn5ybWBsQzok"
      }
    },
    {
      "cell_type": "code",
      "source": [
        "x = [23, 'Python', 23.98]\n",
        "\n",
        "types_list = []\n",
        "\n",
        "for item in x:\n",
        "    types_list.append(type(item))\n",
        "\n",
        "print(types_list)\n"
      ],
      "metadata": {
        "colab": {
          "base_uri": "https://localhost:8080/"
        },
        "id": "UFM4-fUMROyj",
        "outputId": "c36f6acf-6341-46c5-f8ff-aa0702a771fc"
      },
      "execution_count": 8,
      "outputs": [
        {
          "output_type": "stream",
          "name": "stdout",
          "text": [
            "[<class 'int'>, <class 'str'>, <class 'float'>]\n"
          ]
        }
      ]
    },
    {
      "cell_type": "markdown",
      "source": [
        "## The append() method in Python is used to add an element to the end of a list. It modifies the original list by adding the new element at the end.and in this it appends the type of each element in the original list to the types_list."
      ],
      "metadata": {
        "id": "P1a_NQVMSxAt"
      }
    },
    {
      "cell_type": "code",
      "source": [
        "list = [1,2,3,3,3,3,4,5]\n",
        "unique_list=[]\n",
        "for x in list:\n",
        "    if x not in unique_list:\n",
        "      unique_list.append(x)\n",
        "print(unique_list)"
      ],
      "metadata": {
        "colab": {
          "base_uri": "https://localhost:8080/"
        },
        "id": "SYsD_r2QTHPn",
        "outputId": "1191ce10-5b60-4e25-ff38-669f6ffe0eed"
      },
      "execution_count": 18,
      "outputs": [
        {
          "output_type": "stream",
          "name": "stdout",
          "text": [
            "[1, 2, 3, 4, 5]\n"
          ]
        }
      ]
    },
    {
      "cell_type": "markdown",
      "source": [
        "## if the element is not in unique list the we are appending that to unique list from the list."
      ],
      "metadata": {
        "id": "GUer91s4Wf0j"
      }
    },
    {
      "cell_type": "code",
      "source": [
        "def count_upper_lower(string1):\n",
        "  upper_count=0\n",
        "  lower_count=0\n",
        "  for char in string1:\n",
        "    if char.isupper():\n",
        "     upper_count+=1\n",
        "    elif char.islower():\n",
        "     lower_count+=1\n",
        "  print(\"upper case count is %d lower case count is %d\"% (upper_count,lower_count))\n",
        "temp=input(\"enter a string:\")\n",
        "count_upper_lower(temp)"
      ],
      "metadata": {
        "colab": {
          "base_uri": "https://localhost:8080/"
        },
        "id": "Ys45UuKaWvXh",
        "outputId": "db52121a-2751-4bbf-f05d-6f026a691a83"
      },
      "execution_count": 25,
      "outputs": [
        {
          "output_type": "stream",
          "name": "stdout",
          "text": [
            "enter a string:'The quick Brow Fox'\n",
            "upper case count is 3 lower case count is 12\n"
          ]
        }
      ]
    },
    {
      "cell_type": "markdown",
      "source": [
        "## The function count_upper_lower counts the number of uppercase and lowercase letters in a given string. The logic iterates through each character in the string and increments counters for uppercase and lowercase letters accordingly."
      ],
      "metadata": {
        "id": "sCoA0RxCguuc"
      }
    }
  ]
}